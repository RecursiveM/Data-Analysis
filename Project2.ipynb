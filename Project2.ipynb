{
 "cells": [
  {
   "cell_type": "markdown",
   "metadata": {},
   "source": [
    "\n",
    "\n",
    "# Project: Investigate Tmdb-Movies Dataset !\n",
    "\n",
    "## Contents:\n",
    "<ul>\n",
    "<li><a href=\"#intro\">Introduction</a></li>\n",
    "<li><a href=\"#wrangling\">Data Wrangling</a></li>\n",
    "<li><a href=\"#eda\">Exploratoring</a></li>\n",
    "<li><a href=\"#conclusions\">Conclusions and summary</a></li>\n",
    "</ul>"
   ]
  },
  {
   "cell_type": "markdown",
   "metadata": {},
   "source": [
    "<a id='intro'></a>\n",
    "## Introduction\n",
    "\n",
    "We all love watching movies !\n",
    "but unfortunately, many people do not recognize the consumable duration , time , authrizations and budget to cast a  movie onto Platforms and Cinemas.\n",
    "\n",
    "So, We are going to conclude some certain informaton through TMDb Movies database.\n",
    "\n",
    "\n",
    "This data set contains information about 10,000 movies collected from The Movie Database (TMDb),\n",
    "including user ratings , genres , cast , revenue and every possible information about a movie.\n",
    "In this project, this dataset will go through 3 stages: \n",
    "      \n",
    "      1- Cleaning: which non useful attributes get dropped , Null values get replaced and changing data types of some      \n",
    "             attributes to make it more useful !\n",
    "      2- Extracting: appropriate conclusions are going to be extracted from 'Data Frames'.\n",
    "      3- Visualizing: which those conclusions are going to be visualized to answer some certain questions !\n",
    "      \n",
    "      \n",
    " "
   ]
  },
  {
   "cell_type": "code",
   "execution_count": 1,
   "metadata": {},
   "outputs": [],
   "source": [
    "#Imported usefull modules and libraries that are going to be used !\n",
    "import pandas as pd ,numpy as np ,scipy as sc , seaborn as sns , matplotlib.pyplot as plt\n",
    "%matplotlib inline"
   ]
  },
  {
   "cell_type": "markdown",
   "metadata": {},
   "source": [
    "<a id='wrangling'></a>\n",
    "## Data Wrangling\n",
    "\n",
    "\n",
    "In this section of the report, \n",
    "\n",
    "    First -load in the data\n",
    "    Second-check for cleanliness \n",
    "    Third -trim and clean dataset for analysis.\n",
    "**Each change is followed by specification and declaration.**"
   ]
  },
  {
   "cell_type": "markdown",
   "metadata": {},
   "source": [
    "===============================================================================\n",
    "\n",
    "**1-Notes: In this cell, a code is written to have a general view on the dataset!**\n",
    "\n",
    "===============================================================================\n"
   ]
  },
  {
   "cell_type": "code",
   "execution_count": 2,
   "metadata": {},
   "outputs": [
    {
     "data": {
      "text/html": [
       "<div>\n",
       "<style scoped>\n",
       "    .dataframe tbody tr th:only-of-type {\n",
       "        vertical-align: middle;\n",
       "    }\n",
       "\n",
       "    .dataframe tbody tr th {\n",
       "        vertical-align: top;\n",
       "    }\n",
       "\n",
       "    .dataframe thead th {\n",
       "        text-align: right;\n",
       "    }\n",
       "</style>\n",
       "<table border=\"1\" class=\"dataframe\">\n",
       "  <thead>\n",
       "    <tr style=\"text-align: right;\">\n",
       "      <th></th>\n",
       "      <th>id</th>\n",
       "      <th>imdb_id</th>\n",
       "      <th>popularity</th>\n",
       "      <th>budget</th>\n",
       "      <th>revenue</th>\n",
       "      <th>original_title</th>\n",
       "      <th>cast</th>\n",
       "      <th>homepage</th>\n",
       "      <th>director</th>\n",
       "      <th>tagline</th>\n",
       "      <th>...</th>\n",
       "      <th>overview</th>\n",
       "      <th>runtime</th>\n",
       "      <th>genres</th>\n",
       "      <th>production_companies</th>\n",
       "      <th>release_date</th>\n",
       "      <th>vote_count</th>\n",
       "      <th>vote_average</th>\n",
       "      <th>release_year</th>\n",
       "      <th>budget_adj</th>\n",
       "      <th>revenue_adj</th>\n",
       "    </tr>\n",
       "  </thead>\n",
       "  <tbody>\n",
       "    <tr>\n",
       "      <th>0</th>\n",
       "      <td>135397</td>\n",
       "      <td>tt0369610</td>\n",
       "      <td>32.985763</td>\n",
       "      <td>150000000</td>\n",
       "      <td>1513528810</td>\n",
       "      <td>Jurassic World</td>\n",
       "      <td>Chris Pratt|Bryce Dallas Howard|Irrfan Khan|Vi...</td>\n",
       "      <td>http://www.jurassicworld.com/</td>\n",
       "      <td>Colin Trevorrow</td>\n",
       "      <td>The park is open.</td>\n",
       "      <td>...</td>\n",
       "      <td>Twenty-two years after the events of Jurassic ...</td>\n",
       "      <td>124</td>\n",
       "      <td>Action|Adventure|Science Fiction|Thriller</td>\n",
       "      <td>Universal Studios|Amblin Entertainment|Legenda...</td>\n",
       "      <td>6/9/15</td>\n",
       "      <td>5562</td>\n",
       "      <td>6.5</td>\n",
       "      <td>2015</td>\n",
       "      <td>1.379999e+08</td>\n",
       "      <td>1.392446e+09</td>\n",
       "    </tr>\n",
       "    <tr>\n",
       "      <th>1</th>\n",
       "      <td>76341</td>\n",
       "      <td>tt1392190</td>\n",
       "      <td>28.419936</td>\n",
       "      <td>150000000</td>\n",
       "      <td>378436354</td>\n",
       "      <td>Mad Max: Fury Road</td>\n",
       "      <td>Tom Hardy|Charlize Theron|Hugh Keays-Byrne|Nic...</td>\n",
       "      <td>http://www.madmaxmovie.com/</td>\n",
       "      <td>George Miller</td>\n",
       "      <td>What a Lovely Day.</td>\n",
       "      <td>...</td>\n",
       "      <td>An apocalyptic story set in the furthest reach...</td>\n",
       "      <td>120</td>\n",
       "      <td>Action|Adventure|Science Fiction|Thriller</td>\n",
       "      <td>Village Roadshow Pictures|Kennedy Miller Produ...</td>\n",
       "      <td>5/13/15</td>\n",
       "      <td>6185</td>\n",
       "      <td>7.1</td>\n",
       "      <td>2015</td>\n",
       "      <td>1.379999e+08</td>\n",
       "      <td>3.481613e+08</td>\n",
       "    </tr>\n",
       "    <tr>\n",
       "      <th>2</th>\n",
       "      <td>262500</td>\n",
       "      <td>tt2908446</td>\n",
       "      <td>13.112507</td>\n",
       "      <td>110000000</td>\n",
       "      <td>295238201</td>\n",
       "      <td>Insurgent</td>\n",
       "      <td>Shailene Woodley|Theo James|Kate Winslet|Ansel...</td>\n",
       "      <td>http://www.thedivergentseries.movie/#insurgent</td>\n",
       "      <td>Robert Schwentke</td>\n",
       "      <td>One Choice Can Destroy You</td>\n",
       "      <td>...</td>\n",
       "      <td>Beatrice Prior must confront her inner demons ...</td>\n",
       "      <td>119</td>\n",
       "      <td>Adventure|Science Fiction|Thriller</td>\n",
       "      <td>Summit Entertainment|Mandeville Films|Red Wago...</td>\n",
       "      <td>3/18/15</td>\n",
       "      <td>2480</td>\n",
       "      <td>6.3</td>\n",
       "      <td>2015</td>\n",
       "      <td>1.012000e+08</td>\n",
       "      <td>2.716190e+08</td>\n",
       "    </tr>\n",
       "    <tr>\n",
       "      <th>3</th>\n",
       "      <td>140607</td>\n",
       "      <td>tt2488496</td>\n",
       "      <td>11.173104</td>\n",
       "      <td>200000000</td>\n",
       "      <td>2068178225</td>\n",
       "      <td>Star Wars: The Force Awakens</td>\n",
       "      <td>Harrison Ford|Mark Hamill|Carrie Fisher|Adam D...</td>\n",
       "      <td>http://www.starwars.com/films/star-wars-episod...</td>\n",
       "      <td>J.J. Abrams</td>\n",
       "      <td>Every generation has a story.</td>\n",
       "      <td>...</td>\n",
       "      <td>Thirty years after defeating the Galactic Empi...</td>\n",
       "      <td>136</td>\n",
       "      <td>Action|Adventure|Science Fiction|Fantasy</td>\n",
       "      <td>Lucasfilm|Truenorth Productions|Bad Robot</td>\n",
       "      <td>12/15/15</td>\n",
       "      <td>5292</td>\n",
       "      <td>7.5</td>\n",
       "      <td>2015</td>\n",
       "      <td>1.839999e+08</td>\n",
       "      <td>1.902723e+09</td>\n",
       "    </tr>\n",
       "    <tr>\n",
       "      <th>4</th>\n",
       "      <td>168259</td>\n",
       "      <td>tt2820852</td>\n",
       "      <td>9.335014</td>\n",
       "      <td>190000000</td>\n",
       "      <td>1506249360</td>\n",
       "      <td>Furious 7</td>\n",
       "      <td>Vin Diesel|Paul Walker|Jason Statham|Michelle ...</td>\n",
       "      <td>http://www.furious7.com/</td>\n",
       "      <td>James Wan</td>\n",
       "      <td>Vengeance Hits Home</td>\n",
       "      <td>...</td>\n",
       "      <td>Deckard Shaw seeks revenge against Dominic Tor...</td>\n",
       "      <td>137</td>\n",
       "      <td>Action|Crime|Thriller</td>\n",
       "      <td>Universal Pictures|Original Film|Media Rights ...</td>\n",
       "      <td>4/1/15</td>\n",
       "      <td>2947</td>\n",
       "      <td>7.3</td>\n",
       "      <td>2015</td>\n",
       "      <td>1.747999e+08</td>\n",
       "      <td>1.385749e+09</td>\n",
       "    </tr>\n",
       "  </tbody>\n",
       "</table>\n",
       "<p>5 rows × 21 columns</p>\n",
       "</div>"
      ],
      "text/plain": [
       "       id    imdb_id  popularity     budget     revenue  \\\n",
       "0  135397  tt0369610   32.985763  150000000  1513528810   \n",
       "1   76341  tt1392190   28.419936  150000000   378436354   \n",
       "2  262500  tt2908446   13.112507  110000000   295238201   \n",
       "3  140607  tt2488496   11.173104  200000000  2068178225   \n",
       "4  168259  tt2820852    9.335014  190000000  1506249360   \n",
       "\n",
       "                 original_title  \\\n",
       "0                Jurassic World   \n",
       "1            Mad Max: Fury Road   \n",
       "2                     Insurgent   \n",
       "3  Star Wars: The Force Awakens   \n",
       "4                     Furious 7   \n",
       "\n",
       "                                                cast  \\\n",
       "0  Chris Pratt|Bryce Dallas Howard|Irrfan Khan|Vi...   \n",
       "1  Tom Hardy|Charlize Theron|Hugh Keays-Byrne|Nic...   \n",
       "2  Shailene Woodley|Theo James|Kate Winslet|Ansel...   \n",
       "3  Harrison Ford|Mark Hamill|Carrie Fisher|Adam D...   \n",
       "4  Vin Diesel|Paul Walker|Jason Statham|Michelle ...   \n",
       "\n",
       "                                            homepage          director  \\\n",
       "0                      http://www.jurassicworld.com/   Colin Trevorrow   \n",
       "1                        http://www.madmaxmovie.com/     George Miller   \n",
       "2     http://www.thedivergentseries.movie/#insurgent  Robert Schwentke   \n",
       "3  http://www.starwars.com/films/star-wars-episod...       J.J. Abrams   \n",
       "4                           http://www.furious7.com/         James Wan   \n",
       "\n",
       "                         tagline  ...  \\\n",
       "0              The park is open.  ...   \n",
       "1             What a Lovely Day.  ...   \n",
       "2     One Choice Can Destroy You  ...   \n",
       "3  Every generation has a story.  ...   \n",
       "4            Vengeance Hits Home  ...   \n",
       "\n",
       "                                            overview runtime  \\\n",
       "0  Twenty-two years after the events of Jurassic ...     124   \n",
       "1  An apocalyptic story set in the furthest reach...     120   \n",
       "2  Beatrice Prior must confront her inner demons ...     119   \n",
       "3  Thirty years after defeating the Galactic Empi...     136   \n",
       "4  Deckard Shaw seeks revenge against Dominic Tor...     137   \n",
       "\n",
       "                                      genres  \\\n",
       "0  Action|Adventure|Science Fiction|Thriller   \n",
       "1  Action|Adventure|Science Fiction|Thriller   \n",
       "2         Adventure|Science Fiction|Thriller   \n",
       "3   Action|Adventure|Science Fiction|Fantasy   \n",
       "4                      Action|Crime|Thriller   \n",
       "\n",
       "                                production_companies release_date vote_count  \\\n",
       "0  Universal Studios|Amblin Entertainment|Legenda...       6/9/15       5562   \n",
       "1  Village Roadshow Pictures|Kennedy Miller Produ...      5/13/15       6185   \n",
       "2  Summit Entertainment|Mandeville Films|Red Wago...      3/18/15       2480   \n",
       "3          Lucasfilm|Truenorth Productions|Bad Robot     12/15/15       5292   \n",
       "4  Universal Pictures|Original Film|Media Rights ...       4/1/15       2947   \n",
       "\n",
       "   vote_average  release_year    budget_adj   revenue_adj  \n",
       "0           6.5          2015  1.379999e+08  1.392446e+09  \n",
       "1           7.1          2015  1.379999e+08  3.481613e+08  \n",
       "2           6.3          2015  1.012000e+08  2.716190e+08  \n",
       "3           7.5          2015  1.839999e+08  1.902723e+09  \n",
       "4           7.3          2015  1.747999e+08  1.385749e+09  \n",
       "\n",
       "[5 rows x 21 columns]"
      ]
     },
     "execution_count": 2,
     "metadata": {},
     "output_type": "execute_result"
    }
   ],
   "source": [
    "df = pd.read_csv('tmdb-movies.csv')\n",
    "df.head()"
   ]
  },
  {
   "cell_type": "markdown",
   "metadata": {},
   "source": [
    "===============================================================================\n",
    "\n",
    "2- **Notes: In these cells, code is written to provide columns that contains null values using functions 'info' / 'isna'**\n",
    "\n",
    "===============================================================================\n"
   ]
  },
  {
   "cell_type": "code",
   "execution_count": 3,
   "metadata": {},
   "outputs": [
    {
     "name": "stdout",
     "output_type": "stream",
     "text": [
      "<class 'pandas.core.frame.DataFrame'>\n",
      "RangeIndex: 10866 entries, 0 to 10865\n",
      "Data columns (total 21 columns):\n",
      " #   Column                Non-Null Count  Dtype  \n",
      "---  ------                --------------  -----  \n",
      " 0   id                    10866 non-null  int64  \n",
      " 1   imdb_id               10856 non-null  object \n",
      " 2   popularity            10866 non-null  float64\n",
      " 3   budget                10866 non-null  int64  \n",
      " 4   revenue               10866 non-null  int64  \n",
      " 5   original_title        10866 non-null  object \n",
      " 6   cast                  10790 non-null  object \n",
      " 7   homepage              2936 non-null   object \n",
      " 8   director              10822 non-null  object \n",
      " 9   tagline               8042 non-null   object \n",
      " 10  keywords              9373 non-null   object \n",
      " 11  overview              10862 non-null  object \n",
      " 12  runtime               10866 non-null  int64  \n",
      " 13  genres                10843 non-null  object \n",
      " 14  production_companies  9836 non-null   object \n",
      " 15  release_date          10866 non-null  object \n",
      " 16  vote_count            10866 non-null  int64  \n",
      " 17  vote_average          10866 non-null  float64\n",
      " 18  release_year          10866 non-null  int64  \n",
      " 19  budget_adj            10866 non-null  float64\n",
      " 20  revenue_adj           10866 non-null  float64\n",
      "dtypes: float64(4), int64(6), object(11)\n",
      "memory usage: 1.7+ MB\n"
     ]
    }
   ],
   "source": [
    "# comparison of number of non-null count and number of total columns is an indicator of an existing null values\n",
    "df.info()"
   ]
  },
  {
   "cell_type": "code",
   "execution_count": 4,
   "metadata": {},
   "outputs": [
    {
     "data": {
      "text/plain": [
       "id                      False\n",
       "imdb_id                  True\n",
       "popularity              False\n",
       "budget                  False\n",
       "revenue                 False\n",
       "original_title          False\n",
       "cast                     True\n",
       "homepage                 True\n",
       "director                 True\n",
       "tagline                  True\n",
       "keywords                 True\n",
       "overview                 True\n",
       "runtime                 False\n",
       "genres                   True\n",
       "production_companies     True\n",
       "release_date            False\n",
       "vote_count              False\n",
       "vote_average            False\n",
       "release_year            False\n",
       "budget_adj              False\n",
       "revenue_adj             False\n",
       "dtype: bool"
      ]
     },
     "execution_count": 4,
     "metadata": {},
     "output_type": "execute_result"
    }
   ],
   "source": [
    "# True indicates to existince of null values \n",
    "df.isna().any()"
   ]
  },
  {
   "cell_type": "markdown",
   "metadata": {},
   "source": [
    "===============================================================================\n",
    "\n",
    "3-**Notes: in this cell, code is written to check wether duplicates exist or not !**\n",
    "\n",
    "===============================================================================\n",
    "\n"
   ]
  },
  {
   "cell_type": "code",
   "execution_count": 5,
   "metadata": {},
   "outputs": [
    {
     "data": {
      "text/plain": [
       "1"
      ]
     },
     "execution_count": 5,
     "metadata": {},
     "output_type": "execute_result"
    }
   ],
   "source": [
    "\n",
    "sum(df.duplicated())"
   ]
  },
  {
   "cell_type": "markdown",
   "metadata": {},
   "source": [
    "\n",
    ">\n",
    "### Data Cleaning \n",
    "\n",
    " ===============================================================================================================================\n",
    "===============================================================================================================================\n",
    "1-**After observing the sample above, i find that columns having data that clarify something specific is not usefull and need to be dropped.    \n",
    "( id , imdb_id , cast , homepage , tagline , overview , production_companies , release_date)**\n",
    "\n",
    "    1- 'id' does not provide any analysis benefits.\n",
    "    2- 'imdb_id' does not provide any analysis benefits.\n",
    "    3- 'cast' contains specific data (string) which will not provide any statistical contributions.\n",
    "    4- 'homepage' does not provide any analysis benefits.\n",
    "    5- 'overview' genres does provide same data in an effictive and efficient way .\n",
    "    6- 'tagline' will not provide any effective data.\n",
    "    7- 'production_companies' contains specific data (string) which will not provide any statistical contributions.\n",
    "    8- 'release_date' duplication of release_year.\n",
    "    9- 'keywords' does not provide any helpful data toward answering previously asked questions.\n",
    "===============================================================================================================================\n",
    "===============================================================================================================================\n",
    "   2- **I find that data types are in place and do not need any modification.**\n",
    "\n",
    "===============================================================================================================================\n",
    "===============================================================================================================================\n",
    "   3- **Null values and duplications are going to be removed.  Fields = 0 is replaced with mean.**\n",
    "\n",
    "===============================================================================================================================\n",
    "===============================================================================================================================\n",
    "                                                  \n",
    "                                                     v\n",
    "                                                     v\n"
   ]
  },
  {
   "cell_type": "code",
   "execution_count": 6,
   "metadata": {},
   "outputs": [],
   "source": [
    "\n",
    "#1-: Dropping unnecessary columns\n",
    "drop_col = ['id' , 'imdb_id' , 'cast' , 'homepage' , 'tagline' , 'overview' , 'production_companies' , 'release_date' , 'keywords']\n",
    "df.drop( drop_col , axis = 1 , inplace = True)\n"
   ]
  },
  {
   "cell_type": "code",
   "execution_count": 7,
   "metadata": {},
   "outputs": [
    {
     "name": "stdout",
     "output_type": "stream",
     "text": [
      "<class 'pandas.core.frame.DataFrame'>\n",
      "RangeIndex: 10866 entries, 0 to 10865\n",
      "Data columns (total 12 columns):\n",
      " #   Column          Non-Null Count  Dtype  \n",
      "---  ------          --------------  -----  \n",
      " 0   popularity      10866 non-null  float64\n",
      " 1   budget          10866 non-null  int64  \n",
      " 2   revenue         10866 non-null  int64  \n",
      " 3   original_title  10866 non-null  object \n",
      " 4   director        10822 non-null  object \n",
      " 5   runtime         10866 non-null  int64  \n",
      " 6   genres          10843 non-null  object \n",
      " 7   vote_count      10866 non-null  int64  \n",
      " 8   vote_average    10866 non-null  float64\n",
      " 9   release_year    10866 non-null  int64  \n",
      " 10  budget_adj      10866 non-null  float64\n",
      " 11  revenue_adj     10866 non-null  float64\n",
      "dtypes: float64(4), int64(5), object(3)\n",
      "memory usage: 1018.8+ KB\n"
     ]
    }
   ],
   "source": [
    "#Dataframe after dropping unnecessary columns\n",
    "\n",
    "df.info()\n"
   ]
  },
  {
   "cell_type": "markdown",
   "metadata": {},
   "source": [
    "================================================================================================================\n",
    "\n",
    "**3- Removing Null , Duplicated values and Labels containing 'Zero' !**\n",
    "       \n",
    "       1- First cell contains code that eliminates all rows that contain a null value !\n",
    "       2- Second cell contains code that eliminates all duplicated rows !\n",
    "       3- Third cell contains code that replaces mean in field that contains 'zero !\n",
    "       \n",
    "   **Each cell contains both comments and 'info()' to check wether operation completed or not**\n",
    "   \n",
    "================================================================================================================\n"
   ]
  },
  {
   "cell_type": "code",
   "execution_count": 8,
   "metadata": {},
   "outputs": [
    {
     "name": "stdout",
     "output_type": "stream",
     "text": [
      "<class 'pandas.core.frame.DataFrame'>\n",
      "Int64Index: 10801 entries, 0 to 10865\n",
      "Data columns (total 12 columns):\n",
      " #   Column          Non-Null Count  Dtype  \n",
      "---  ------          --------------  -----  \n",
      " 0   popularity      10801 non-null  float64\n",
      " 1   budget          10801 non-null  int64  \n",
      " 2   revenue         10801 non-null  int64  \n",
      " 3   original_title  10801 non-null  object \n",
      " 4   director        10801 non-null  object \n",
      " 5   runtime         10801 non-null  int64  \n",
      " 6   genres          10801 non-null  object \n",
      " 7   vote_count      10801 non-null  int64  \n",
      " 8   vote_average    10801 non-null  float64\n",
      " 9   release_year    10801 non-null  int64  \n",
      " 10  budget_adj      10801 non-null  float64\n",
      " 11  revenue_adj     10801 non-null  float64\n",
      "dtypes: float64(4), int64(5), object(3)\n",
      "memory usage: 1.1+ MB\n"
     ]
    }
   ],
   "source": [
    "# 3(1/3) -Removing rows that contains null values \n",
    "\n",
    "df.dropna(inplace = True)\n",
    "\n",
    "# Viewing dataframe info to confirm removing \n",
    "df.info()\n",
    "\n"
   ]
  },
  {
   "cell_type": "markdown",
   "metadata": {},
   "source": [
    "================================================================================================================"
   ]
  },
  {
   "cell_type": "code",
   "execution_count": 9,
   "metadata": {},
   "outputs": [
    {
     "name": "stdout",
     "output_type": "stream",
     "text": [
      "<class 'pandas.core.frame.DataFrame'>\n",
      "Int64Index: 10800 entries, 0 to 10865\n",
      "Data columns (total 12 columns):\n",
      " #   Column          Non-Null Count  Dtype  \n",
      "---  ------          --------------  -----  \n",
      " 0   popularity      10800 non-null  float64\n",
      " 1   budget          10800 non-null  int64  \n",
      " 2   revenue         10800 non-null  int64  \n",
      " 3   original_title  10800 non-null  object \n",
      " 4   director        10800 non-null  object \n",
      " 5   runtime         10800 non-null  int64  \n",
      " 6   genres          10800 non-null  object \n",
      " 7   vote_count      10800 non-null  int64  \n",
      " 8   vote_average    10800 non-null  float64\n",
      " 9   release_year    10800 non-null  int64  \n",
      " 10  budget_adj      10800 non-null  float64\n",
      " 11  revenue_adj     10800 non-null  float64\n",
      "dtypes: float64(4), int64(5), object(3)\n",
      "memory usage: 1.1+ MB\n"
     ]
    }
   ],
   "source": [
    "\n",
    "# 3(2/3)-Removing Duplicated rows !\n",
    "df.drop_duplicates(inplace = True)\n",
    "\n",
    "#Viewing dataframe info to confirm removing\n",
    "df.info()\n",
    "\n"
   ]
  },
  {
   "cell_type": "markdown",
   "metadata": {},
   "source": [
    "================================================================================================================\n",
    "\n",
    "#3(3/3) -Replacing zero with mean !\n",
    "\n",
    "for example, i will take 'budget' as a clarification.\n",
    "\n"
   ]
  },
  {
   "cell_type": "code",
   "execution_count": 10,
   "metadata": {},
   "outputs": [
    {
     "data": {
      "text/plain": [
       "count    1.080000e+04\n",
       "mean     1.471114e+07\n",
       "std      3.098677e+07\n",
       "min      0.000000e+00\n",
       "25%      0.000000e+00\n",
       "50%      0.000000e+00\n",
       "75%      1.564374e+07\n",
       "max      4.250000e+08\n",
       "Name: budget, dtype: float64"
      ]
     },
     "execution_count": 10,
     "metadata": {},
     "output_type": "execute_result"
    }
   ],
   "source": [
    "df['budget'].describe()"
   ]
  },
  {
   "cell_type": "markdown",
   "metadata": {},
   "source": [
    "as we can see above ^ min equals zero."
   ]
  },
  {
   "cell_type": "code",
   "execution_count": 11,
   "metadata": {},
   "outputs": [
    {
     "data": {
      "text/plain": [
       "count    1.080000e+04\n",
       "mean     2.238817e+07\n",
       "std      2.807649e+07\n",
       "min      1.000000e+00\n",
       "25%      1.471114e+07\n",
       "50%      1.471114e+07\n",
       "75%      1.564374e+07\n",
       "max      4.250000e+08\n",
       "Name: budget, dtype: float64"
      ]
     },
     "execution_count": 11,
     "metadata": {},
     "output_type": "execute_result"
    }
   ],
   "source": [
    "# *NOTE* This code replaces zero with mean for all selected columns !\n",
    "\n",
    "#Those columns are selected based on their benefits at visualization part of this projct !\n",
    "\n",
    "label = [ 'runtime' ,'budget' , 'revenue']\n",
    "x = 0\n",
    "for i in label:\n",
    "    if type(label[x]) is int :\n",
    "     df[label[x]].replace(0 , int (df[label[x]].mean()) , inplace = True)\n",
    "     x+=1\n",
    "    else:\n",
    "     df[label[x]].replace(0, df[label[x]].mean(), inplace=True)\n",
    "     x+=1\n",
    "        \n",
    "#Now after replacing zero's with mean, we're going to have a look at 'min' for budget to make sure the code works well !   \n",
    "df['budget'].describe()\n",
    "\n"
   ]
  },
  {
   "cell_type": "code",
   "execution_count": 12,
   "metadata": {},
   "outputs": [
    {
     "data": {
      "text/plain": [
       "count    10800.000000\n",
       "mean       102.454659\n",
       "std         30.339749\n",
       "min          2.000000\n",
       "25%         90.000000\n",
       "50%         99.000000\n",
       "75%        111.250000\n",
       "max        900.000000\n",
       "Name: runtime, dtype: float64"
      ]
     },
     "execution_count": 12,
     "metadata": {},
     "output_type": "execute_result"
    }
   ],
   "source": [
    "\n",
    "\n",
    "# 'runtime'\n",
    "\n",
    "df['runtime'].describe()\n",
    "\n"
   ]
  },
  {
   "cell_type": "code",
   "execution_count": 13,
   "metadata": {},
   "outputs": [
    {
     "data": {
      "text/plain": [
       "count    1.080000e+04\n",
       "mean     6.214616e+07\n",
       "std      1.113169e+08\n",
       "min      2.000000e+00\n",
       "25%      4.006558e+07\n",
       "50%      4.006558e+07\n",
       "75%      4.006558e+07\n",
       "max      2.781506e+09\n",
       "Name: revenue, dtype: float64"
      ]
     },
     "execution_count": 13,
     "metadata": {},
     "output_type": "execute_result"
    }
   ],
   "source": [
    "\n",
    "\n",
    "# 'revenue'\n",
    "\n",
    "df['revenue'].describe()\n",
    "\n"
   ]
  },
  {
   "cell_type": "markdown",
   "metadata": {},
   "source": [
    "================================================================================================================\n",
    "\n",
    "\n",
    "#### As we finished wrangling and cleaning TMDb-Movies Dataset we condlude the following :\n",
    "    1- 65 rows have been eliminated due to containing Null Values.\n",
    "    2- 1 row have been eliminated due to duplication.\n",
    "    3- 66 rows eliminated in total. \n",
    "    4- 9 columns gotten dropped due to lack of contribution to analysis and effectivness.\n",
    "================================================================================================================\n"
   ]
  },
  {
   "cell_type": "markdown",
   "metadata": {},
   "source": [
    "<a id='eda'></a>\n",
    "## Exploratory Data Analysis \n",
    "### Three questions :  1 , 2(1-2-3) , 3\n",
    "\n",
    "\n",
    "# Question 1: has number of votes been considerable since 1960 ?"
   ]
  },
  {
   "cell_type": "code",
   "execution_count": 86,
   "metadata": {},
   "outputs": [
    {
     "data": {
      "text/plain": [
       "<AxesSubplot:xlabel='release_year', ylabel='vote_count'>"
      ]
     },
     "execution_count": 86,
     "metadata": {},
     "output_type": "execute_result"
    },
    {
     "data": {
      "image/png": "[encoded data removed]",
      "text/plain": [
       "<Figure size 432x288 with 1 Axes>"
      ]
     },
     "metadata": {},
     "output_type": "display_data"
    }
   ],
   "source": [
    "\n",
    "\n",
    "\n",
    "sns.lineplot(data=df,x= 'release_year' , y=\"vote_count\", markers=True, dashes=False, ci=70 , color = 'red')\n"
   ]
  },
  {
   "cell_type": "markdown",
   "metadata": {},
   "source": [
    "# Quesiton 1 answer :\n",
    "\n",
    "#### *As the graph shows, Vote number has been significantly rising since 1960 which leads to this: Yes vote number is getting considerable since it's significantly rising.*\n",
    "\n",
    "\n",
    "========================================================================================================================"
   ]
  },
  {
   "cell_type": "markdown",
   "metadata": {},
   "source": [
    "========================================================================================================================\n",
    "# Question 2\n",
    "\n",
    "### Analysis On Top five revenue movies !\n",
    "\n",
    "    These are questions under Question number 2 and are going to be answered at the end.\n",
    "\n",
    "    1-Question 2(1/3):  What's the difference between Top move's revenue and second Top movie ?\n",
    "    \n",
    "    2-Question 2 (2/3): Which Movie from the top five has achieved max profit ? max(revenue - budget)\n",
    "    \n",
    "    3-Question 2 (3/3): Does Long runtime affect popularity  ? \n",
    "\n",
    "========================================================================================================================\n"
   ]
  },
  {
   "cell_type": "markdown",
   "metadata": {},
   "source": [
    "### At first I will create a seperate Dataframe for this question to make it easier for me to make changes ! "
   ]
  },
  {
   "cell_type": "code",
   "execution_count": 44,
   "metadata": {},
   "outputs": [
    {
     "name": "stdout",
     "output_type": "stream",
     "text": [
      "2781505847.0\n",
      "1375\n",
      "2068178225.0\n",
      "3\n",
      "1513528810.0\n",
      "0\n",
      "1506249360.0\n",
      "2\n",
      "1405035767.0\n",
      "11\n"
     ]
    }
   ],
   "source": [
    "#First i am going to get the top five revenues by casting 'revenue' columns from dataframe into a list \n",
    "\n",
    "#casting !\n",
    "revlist = list(df['revenue'])\n",
    "\n",
    "dirlist = list(df['director'])\n",
    "\n",
    "\n",
    "otlist = list(df['original_title'])\n",
    "\n",
    "\n",
    "rtlist = list(df['runtime'])\n",
    "\n",
    "budglist = list(df['budget'])\n",
    "\n",
    "poplist = list(df['popularity'])\n",
    "\n",
    "#list of revenue values !\n",
    "revenuelist = []\n",
    "\n",
    "#List of top five : directors, runtime , original title , etc.. !\n",
    "directorlist = []\n",
    "\n",
    "runtimelist = []\n",
    "\n",
    "original_titlelist = []\n",
    "\n",
    "budgetlist = []\n",
    "\n",
    "popularitylist = []\n",
    "\n",
    "#list of indexes that are going to be gathered from down below and filled in this list\n",
    "loindex = []\n",
    "\n",
    "index = 0\n",
    "\n",
    "while index < 7:\n",
    "\n",
    "    if  index == 2 :\n",
    "        temp = max(revlist)\n",
    "        revlist.remove(temp)\n",
    "        index += 1\n",
    "\n",
    "    if  index == 3:\n",
    "        temp = max(revlist)\n",
    "        revlist.remove(temp)\n",
    "        index += 1\n",
    "\n",
    "\n",
    "\n",
    "    else:\n",
    "        temp = max(revlist)\n",
    "        revenuelist.append(temp)\n",
    "        print(temp)\n",
    "        print(revlist.index(temp))\n",
    "        loindex.append(revlist.index(temp))\n",
    "        revlist.remove(temp)\n",
    "        index += 1\n",
    "\n",
    "\n",
    "\n",
    "\n",
    "#Results down below represents the top five highest revenue movies!"
   ]
  },
  {
   "cell_type": "code",
   "execution_count": 45,
   "metadata": {},
   "outputs": [
    {
     "name": "stdout",
     "output_type": "stream",
     "text": [
      "1 - Name of director: James Cameron \n",
      " index^: 1375 \n",
      "--------------\n",
      "2 - Name of director: J.J. Abrams \n",
      " index^: 3 \n",
      "--------------\n",
      "3 - Name of director: Colin Trevorrow \n",
      " index^: 0 \n",
      "--------------\n",
      "4 - Name of director: Robert Schwentke \n",
      " index^: 2 \n",
      "--------------\n",
      "5 - Name of director: Lana Wachowski|Lilly Wachowski \n",
      " index^: 11 \n",
      "--------------\n"
     ]
    }
   ],
   "source": [
    "\n",
    "#Now i'll print the top 5 movie revenues directors with their respective index saved in 'liondex' \n",
    "ind = 0\n",
    "while ind < 5:\n",
    "    directorlist.append(dirlist[loindex[ind]])\n",
    "    original_titlelist.append(otlist[loindex[ind]])\n",
    "    runtimelist.append(rtlist[loindex[ind]])\n",
    "    budgetlist.append(budglist[loindex[ind]])\n",
    "    popularitylist.append(poplist[loindex[ind]])\n",
    "    print(ind + 1, '-', 'Name of director:', dirlist[loindex[ind]], '\\n index^:', loindex[ind], '\\n--------------')\n",
    "    ind += 1\n",
    "\n"
   ]
  },
  {
   "cell_type": "markdown",
   "metadata": {},
   "source": [
    "### Now, Let's visualize the results from above !"
   ]
  },
  {
   "cell_type": "code",
   "execution_count": 46,
   "metadata": {},
   "outputs": [
    {
     "data": {
      "image/png": "[encoded data removed]",
      "text/plain": [
       "<Figure size 1080x720 with 1 Axes>"
      ]
     },
     "metadata": {},
     "output_type": "display_data"
    }
   ],
   "source": [
    "#Let's make a temporary dataframe for this question !\n",
    "\n",
    "#Dictionary holds both data from above\n",
    "alldic = {\n",
    "    'director' : directorlist,\n",
    "    'revenue'  : revenuelist,\n",
    "    'budget'  : budgetlist,\n",
    "    'runtime' : runtimelist,    \n",
    "    'original_title' : original_titlelist,\n",
    "    'popularity'  : popularitylist\n",
    "    \n",
    "}\n",
    "\n",
    "#Dataframe : df1\n",
    "df1 = pd.DataFrame(alldic , columns=['director' , 'revenue', 'budget' , 'runtime', 'original_title' , 'popularity'])\n",
    "\n",
    "#data : data used in visualization\n",
    "data = df1\n",
    "\n",
    "#From imported libraries above , I've used seaborn to visualize the results!\n",
    "sns.set_style(\"whitegrid\")\n",
    "\n",
    "bar,ax = plt.subplots(figsize=(15,10))\n",
    "\n",
    "ax = sns.barplot(data=data, x=data['director'], y= data['revenue'], ci=None, palette=\"muted\",orient='v', )\n",
    "ax.set_title(\"Barchart visualization: the difference of revenue between top five movies\", fontsize=15)\n",
    "ax.set_xlabel (\"director\")\n",
    "ax.set_ylabel (\"revenue\")\n",
    "\n",
    "#adding values to it's correct bar respectively \n",
    "for rect in ax.patches:\n",
    "    ax.text (rect.get_x() + rect.get_width() / 2,rect.get_height(), rect.get_height(), weight='bold' )\n",
    "\n",
    "    \n",
    "#EXPLANATION: 1e9 stands for 2 * 10^9"
   ]
  },
  {
   "cell_type": "markdown",
   "metadata": {},
   "source": [
    "### Same bar chart above but x-axis is changed to movie name (Original_title)"
   ]
  },
  {
   "cell_type": "code",
   "execution_count": 47,
   "metadata": {},
   "outputs": [
    {
     "data": {
      "image/png": "[encoded data removed]",
      "text/plain": [
       "<Figure size 1080x720 with 1 Axes>"
      ]
     },
     "metadata": {},
     "output_type": "display_data"
    }
   ],
   "source": [
    "\n",
    "sns.set_style(\"whitegrid\")\n",
    "bar,ax1 = plt.subplots(figsize=(15,10))\n",
    "ax1 = sns.barplot(data=data, x=data['original_title'], y= data['revenue'], ci=None, palette=\"muted\",orient='v', )\n",
    "ax1.set_title(\"Barchart visualization of difference between top five movies\", fontsize=15)\n",
    "ax1.set_xlabel (\"Title\")\n",
    "ax1.set_ylabel (\"revenue\")\n",
    "\n",
    "#adding values to its bar \n",
    "for rect in ax1.patches:\n",
    "    ax1.text (rect.get_x() + rect.get_width() / 2,rect.get_height(), rect.get_height(), weight='bold' )\n",
    "\n",
    "#EXPLANATION: 1e9 stands for 2 * 10^9"
   ]
  },
  {
   "cell_type": "markdown",
   "metadata": {},
   "source": [
    "=============================================================================================\n",
    "## Question 2(1/3): What's the difference between Top movie's revenue and second Top movie ?"
   ]
  },
  {
   "cell_type": "code",
   "execution_count": 48,
   "metadata": {},
   "outputs": [
    {
     "name": "stdout",
     "output_type": "stream",
     "text": [
      "713327622.0\n"
     ]
    }
   ],
   "source": [
    "#Conclusion #1: difference between top and second movies revenue\n",
    "maxrevdif = revenuelist[0] - revenuelist[1]\n",
    "print(maxrevdif)"
   ]
  },
  {
   "cell_type": "markdown",
   "metadata": {},
   "source": [
    "## Question 2 (2/3): Which Movie from the top five has achieved max profit ? max(revenue - budget)\n",
    "\n",
    "\n",
    "\n",
    "Note: This questions contains two graphs: \n",
    "    \n",
    "    1-Normal Barplot of budget/movie  - for general view\n",
    "    2-Double Barplot of revenue-budget / movie - for calculation "
   ]
  },
  {
   "cell_type": "code",
   "execution_count": 49,
   "metadata": {},
   "outputs": [
    {
     "data": {
      "image/png": "[encoded data removed]",
      "text/plain": [
       "<Figure size 720x576 with 1 Axes>"
      ]
     },
     "metadata": {},
     "output_type": "display_data"
    }
   ],
   "source": [
    "sns.set_style(\"whitegrid\")\n",
    "bar,ax1 = plt.subplots(figsize=(10,8))\n",
    "ax1 = sns.barplot(data=data, x=data['original_title'], y= data['budget'], ci=None, palette=\"muted\",orient='v', )\n",
    "ax1.set_title(\"Barchart visualization of difference between top five movies\", fontsize=15)\n",
    "ax1.set_xlabel (\"Title\")\n",
    "ax1.set_ylabel (\"budget\")\n",
    "\n",
    "#adding values to its correct bar respectively\n",
    "for rect in ax1.patches:\n",
    "    ax1.text (rect.get_x() + rect.get_width() / 2,rect.get_height(), rect.get_height(), weight='bold' )\n",
    "    \n",
    "\n",
    "#Graph number 1"
   ]
  },
  {
   "cell_type": "markdown",
   "metadata": {},
   "source": [
    "## Let's observe the difference and conclude !"
   ]
  },
  {
   "cell_type": "code",
   "execution_count": 50,
   "metadata": {},
   "outputs": [
    {
     "data": {
      "text/plain": [
       "Text(0, 0.5, 'budget')"
      ]
     },
     "execution_count": 50,
     "metadata": {},
     "output_type": "execute_result"
    },
    {
     "data": {
      "image/png": "[encoded data removed]",
      "text/plain": [
       "<Figure size 432x288 with 2 Axes>"
      ]
     },
     "metadata": {},
     "output_type": "display_data"
    }
   ],
   "source": [
    "#This dictionary includes only title of movie , revenue and it's budget to help us visualize our question.\n",
    "sundic = {\n",
    "    'title' : original_titlelist,\n",
    "    'revenue' : revenuelist,\n",
    "    'budget'  : budgetlist\n",
    "\n",
    "}\n",
    "\n",
    "\n",
    "#df3 , a dataframe made by pandas \n",
    "df3 = pd.DataFrame(data = data , columns= ['original_title' , 'revenue' , 'budget'])\n",
    "\n",
    "#initialize the figure\n",
    "figure = plt.figure()\n",
    "\n",
    "#ax , ax2 are both axes for this figure and it was possible because of 'twinx()' function.\n",
    "ax = figure.add_subplot(111)\n",
    "ax2 = ax.twinx()\n",
    "\n",
    "width = 0.2\n",
    "\n",
    "#Let's plot the figure with data\n",
    "df3.revenue.plot(kind='bar', color='green', ax=ax, width=width, position=0)\n",
    "df3.budget.plot(kind='bar', color='orange', ax=ax2, width=width, position=1)\n",
    "ax.set_ylabel('revenue')\n",
    "ax2.set_ylabel('budget')\n",
    "\n",
    "#Graph number 2\n",
    "\n",
    "#Note that each bar is represented by an index which refers:  0 : first top movie , 1 : second top move and so on.."
   ]
  },
  {
   "cell_type": "markdown",
   "metadata": {},
   "source": [
    "## Now let's calculate the difference between revenue and budget of each move !\n",
    "Since we know the index of each movie, it's now easy to calculate it !"
   ]
  },
  {
   "cell_type": "code",
   "execution_count": 59,
   "metadata": {},
   "outputs": [
    {
     "name": "stdout",
     "output_type": "stream",
     "text": [
      "1 -Movie Title : Avatar  | Director: James Cameron \n",
      "Profit: 2544505847.0\n",
      "\n",
      "=================================\n",
      "2 -Movie Title : Star Wars: The Force Awakens  | Director: J.J. Abrams \n",
      "Profit: 1868178225.0\n",
      "\n",
      "=================================\n",
      "3 -Movie Title : Jurassic World  | Director: Colin Trevorrow \n",
      "Profit: 1363528810.0\n",
      "\n",
      "=================================\n",
      "4 -Movie Title : Insurgent  | Director: Robert Schwentke \n",
      "Profit: 1396249360.0\n",
      "\n",
      "=================================\n",
      "5 -Movie Title : Jupiter Ascending  | Director: Lana Wachowski|Lilly Wachowski \n",
      "Profit: 1229035764.0\n",
      "\n",
      "=================================\n",
      "Max profit(revenue-budget) movie between the top five is   \" Avatar \"  with max profit =  2544505847.0\n"
     ]
    }
   ],
   "source": [
    "#list contains profit of all top(revenue) five movies\n",
    "maxprofitlist = []\n",
    "\n",
    "#Loop to calculate the difference\n",
    "for i in range(5):\n",
    "    maxprofitlist.append(revenuelist[i] - budgetlist[i])\n",
    "    print(i+1,'-Movie Title :' , original_titlelist[i] , ' | Director:' , directorlist[i]   ,'\\nProfit:', revenuelist[i] - budgetlist[i])\n",
    "    print('\\n=================================')\n",
    "    \n",
    "#saves highest value in a variable\n",
    "maxprofit = max(maxprofitlist)\n",
    "\n",
    "#index of the highest variable\n",
    "maxprofitindex = maxprofitlist.index(maxprofit)\n",
    "\n",
    "print('Max profit(revenue-budget) movie between the top five is   \"' , original_titlelist[maxprofitindex] , '\"  with max profit = ', maxprofit)"
   ]
  },
  {
   "cell_type": "markdown",
   "metadata": {},
   "source": [
    "## Question 2 (3/3):  Is runtime of top five highest revenue movies amoung the %75 of overall runtime ? \n"
   ]
  },
  {
   "cell_type": "code",
   "execution_count": 95,
   "metadata": {},
   "outputs": [
    {
     "data": {
      "image/png": "[encoded data removed]",
      "text/plain": [
       "<Figure size 720x576 with 1 Axes>"
      ]
     },
     "metadata": {},
     "output_type": "display_data"
    }
   ],
   "source": [
    "ax3 = df1.plot.scatter(x='original_title',  y='runtime', c='DarkBlue' , figsize = (10,8))\n",
    "\n",
    "#Note that runtime is in minutes\n",
    "\n",
    "# 1 hour = 60 minutes , 2 hours = 120 and so on.."
   ]
  },
  {
   "cell_type": "code",
   "execution_count": 96,
   "metadata": {},
   "outputs": [
    {
     "data": {
      "text/plain": [
       "count    10800.000000\n",
       "mean       102.454659\n",
       "std         30.339749\n",
       "min          2.000000\n",
       "25%         90.000000\n",
       "50%         99.000000\n",
       "75%        111.250000\n",
       "max        900.000000\n",
       "Name: runtime, dtype: float64"
      ]
     },
     "execution_count": 96,
     "metadata": {},
     "output_type": "execute_result"
    }
   ],
   "source": [
    "df['runtime'].describe()"
   ]
  },
  {
   "cell_type": "markdown",
   "metadata": {},
   "source": [
    "## (Question 2) We can conclude the following:\n",
    "\n",
    "Answer of each Question asked above !:\n",
    "   \n",
    "    1/3-'Avatar' movie's revenue is above the second top movie 'Star Wars: The Force 'Awakens' by $713,327,622 \n",
    "    \n",
    "    2/3- max(revenue - budget) : 'Avatar' Movie with max profit : $2544505847.0\n",
    "   \n",
    "    3/3- No, The lowest runtime amoung top five highest revenue movies is 118 minutes which is higher than 75% of overall                 runtime which is 111 minutes\n",
    "    \n",
    "  \n",
    "### ====================================================================================================================================\n",
    "       \n",
    "    \n",
    "  "
   ]
  },
  {
   "cell_type": "markdown",
   "metadata": {},
   "source": [
    "# Question 3 : Does runtime increase or decrease since 1960 ?"
   ]
  },
  {
   "cell_type": "code",
   "execution_count": 116,
   "metadata": {},
   "outputs": [
    {
     "data": {
      "text/plain": [
       "<AxesSubplot:xlabel='release_year', ylabel='runtime'>"
      ]
     },
     "execution_count": 116,
     "metadata": {},
     "output_type": "execute_result"
    },
    {
     "data": {
      "image/png": "[encoded data removed]",
      "text/plain": [
       "<Figure size 432x288 with 1 Axes>"
      ]
     },
     "metadata": {},
     "output_type": "display_data"
    }
   ],
   "source": [
    "#This lineplot by seaborn shows how runtime took over years\n",
    "data = df\n",
    "sns.lineplot( data=data  ,x=\"release_year\", y=\"runtime\",)\n"
   ]
  },
  {
   "cell_type": "markdown",
   "metadata": {},
   "source": [
    "## Question 3 Answer :\n",
    "\n",
    "### As the figure show , Runtime started at '110' minute and stopped approximately at '70' minutes\n",
    "\n",
    "1960 - 1970 : Runtime had extreme up and down for about 5 times (3 up points and 2 down points)\n",
    "\n",
    "1970-1980: Runtime had continued turning down until approximately 1972 , after that it went up until 1979. After 1979 it         started turning down again.\n",
    "\n",
    "1980-1990: followed at the end of 1980, Runtime went turning down until mids of this decade, After that it raised up and immediately turned down to '100'minutes which is considered as the lowest runtime ever since 1960, after this drop it went back raising.\n",
    "\n",
    "1990-2000: followed by last decade, runtime was significally raising till the end of this decade, it dropped a little bit.\n",
    "\n",
    "2000-2015: first of this decate, runtime line was unstable until 2003/2004 which then runtime was turning down at stable form.\n",
    "\n",
    "## Answer: As graph represents, runtime has decreased with a margin '-40' minutes .\n"
   ]
  },
  {
   "cell_type": "markdown",
   "metadata": {},
   "source": [
    "<a id='conclusions'></a>\n",
    "## Conclusions\n",
    "\n",
    "In conclustion, This dataset had compelling number of things  replaced , removed or kept. But the mostly 'nan' values was the most dropped. I replaced zero values by mean value to have correct analysis then relized pandas do not take zero value in cosideration.\n",
    "\n",
    "I analyzed and plotted in two ways:\n",
    "    \n",
    "    1- General: By taking release_year as independent variable and measured runtime , vote_count on it.\n",
    "    \n",
    "    2- Specific: By analyzing the top five highest revenues movies and answering three questions.\n",
    " \n",
    "At first i will talk about general analysis. Votecount is significally rising since 1960 because in my opinion, movies industry has taken a big role in a lot of countries economy such as Hollywood in USA. Since Movie industry has a enormous fanbase; quality of production gotten elevated by the competence of production companies, Hence vote count at 2015 excessed 1960 by margin equals +215. Moreover, runtime also decreased by margin equals -40 minutes with standard 122 minutes per movie.\n",
    "\n",
    "\n",
    "Second specific analysis, i analyzed the top five highest revenue movie and gotten with the following; The top highest revenue move-'Avatar'- is higher than the second top by 713327622 Dollars The max profit(revenue minus budget) amoung the top five highest revenue is also 'Avatar' Movie with profit equals  2544505847 Dollars. Moreover , Runtime of the top five highest revenue movies is higher than 75% of movies in this dataset.\n",
    "\n",
    "\n",
    "\n",
    "*Limitations:* \n",
    "I faced a lot of dead ends but fortunately found a solution. \n",
    "\n",
    "First i had taken a lot of time to get the top five highest revenue movies and to make sure that they are indeed the top five. \n",
    "\n",
    "Second, i had a trouble in plotting the double bar in question number 2 (2/3), unfortunately it took a lot of my time but the end i solved it !\n",
    "\n",
    "third, I noticed that there are significant number of duplicates amoung each column, in fact most of my time was on figuring what to do about question 2 (2/3), since two movies amoung the top five had duplicated budget \n",
    "equals = 147*** ( I don't remember the whole number). but luckely i found a solution by jumping those two movies and eliminating them from the comparison. I could not remove all duplicated amoung each column because the overall rows will down rocket from 8000 rows to 3000 which is not realistic.\n",
    "\n",
    "\n",
    "At the end, i would like to thank Udacity for this interesting project,\n",
    "I really enjoyed each part of this project.\n",
    "\n",
    "\n",
    " ====================================================*TheEND*=================================================================="
   ]
  },
  {
   "cell_type": "code",
   "execution_count": null,
   "metadata": {},
   "outputs": [],
   "source": []
  }
 ],
 "metadata": {
  "kernelspec": {
   "display_name": "Python 3",
   "language": "python",
   "name": "python3"
  },
  "language_info": {
   "codemirror_mode": {
    "name": "ipython",
    "version": 3
   },
   "file_extension": ".py",
   "mimetype": "text/x-python",
   "name": "python",
   "nbconvert_exporter": "python",
   "pygments_lexer": "ipython3",
   "version": "3.8.5"
  }
 },
 "nbformat": 4,
 "nbformat_minor": 2
}
